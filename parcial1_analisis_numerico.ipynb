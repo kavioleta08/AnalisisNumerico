{
  "nbformat": 4,
  "nbformat_minor": 0,
  "metadata": {
    "colab": {
      "name": "parcial1_analisis_numerico.ipynb",
      "provenance": [],
      "collapsed_sections": []
    },
    "kernelspec": {
      "name": "python3",
      "display_name": "Python 3"
    },
    "language_info": {
      "name": "python"
    }
  },
  "cells": [
    {
      "cell_type": "markdown",
      "source": [
        "# PRIMER PARCIAL DE ANALISIS NUMERICO\n",
        "# EJERCICIO 7\n",
        "El objetivo de este ejercicio es ver el comportamiento de la factorización de Cholesky en cuanto a la calidad de la factorización y de la solución de sistemas de ecuaciones lineales. Diríjase a la parte 1 para empezar a trabajar."
      ],
      "metadata": {
        "id": "_-w9mVWWKQDv"
      }
    },
    {
      "cell_type": "markdown",
      "source": [
        "**PARTE 0**. MODULO DE FUNCIONES PARA RESOLVER SISTEMAS"
      ],
      "metadata": {
        "id": "kuexZdHMKt_Q"
      }
    },
    {
      "cell_type": "code",
      "source": [
        "def sustitucion_atras(u,b):\n",
        "# u es una matriz triangular superior\n",
        "# b es un vector del mismo numero de filas que u\n",
        "# \n",
        "    n = len(b)\n",
        "    sol = np.zeros(n)\n",
        "    for i in reversed(range(n)):\n",
        "        suma = np.dot(u[i][i+1:],sol[i+1:])\n",
        "        sol[i] = (b[i]-suma)/u[i][i] \n",
        "    return sol   \n",
        "\n",
        "def sustitucion_adelante(l,b):\n",
        "# l es una matriz triangular inferior\n",
        "# b es un vector del mismo numero de filas que l\n",
        "# \n",
        "    n = len(b)\n",
        "    sol = np.zeros(n)\n",
        "    for i in range(n):\n",
        "        suma = np.dot(l[i][:i],sol[:i])\n",
        "        sol[i] = (b[i]-suma)/l[i][i] \n",
        "    return sol \n",
        "\n",
        "def factorizacion_cholesky(a):\n",
        "    # factoriza una matriz simétrica, definida positiva\n",
        "    n=len(a)\n",
        "    # inicializamos u como una copia de a\n",
        "    u=np.copy(a)\n",
        "    # recorremos columnas\n",
        "    for k in range(n):\n",
        "      # recorremos filas debajo de la diagonal\n",
        "      for j in range(k+1,n):\n",
        "        # eliminamos valores debajo de la diagonal\n",
        "        factor_elim=u[k][j]/u[k][k]\n",
        "        u[j][:]=u[j][:]-u[k][:]*factor_elim\n",
        "      # se multiplica la fila por el factor de escala\n",
        "      u[k][k:n]=u[k][k:n]/np.sqrt(u[k][k])\n",
        "    return u\n",
        "\n",
        "def resolver_sistema_sim(a,b):\n",
        "    # se encuentra el vector x que resulve a@x=b,\n",
        "    # cuando a es una matriz s.p.d\n",
        "    #Paso 0: factorizar a\n",
        "    u=factorizacion_cholesky(a)\n",
        "    #Paso 1: resolver u^T @ y=b\n",
        "    y = sustitucion_adelante(np.transpose(u),b)\n",
        "    #Paso 2: resolver u@x=y\n",
        "    x = sustitucion_atras(u,y)\n",
        "    return x\n"
      ],
      "metadata": {
        "id": "PofJoCYqajMd"
      },
      "execution_count": 102,
      "outputs": []
    },
    {
      "cell_type": "markdown",
      "source": [
        "**PARTE 1**. Definimos una matriz triangular superior de tamaño n x n, llamada Uverdadera. Con ella vamos a generar una matriz simétrica definida positiva A mediante el producto U^T U. La transpuesta de cualquier matriz M en este lenguaje se saca con el sufijo M.T\n",
        "\n",
        "Para un valor de n entre 5 y 10 imprima Uverdadera y A, y escriba un comando para verificar que A es simétrica."
      ],
      "metadata": {
        "id": "XwbWRTBhK-Xf"
      }
    },
    {
      "cell_type": "code",
      "execution_count": 103,
      "metadata": {
        "id": "nowR1WC8ilDP"
      },
      "outputs": [],
      "source": [
        "import numpy as np\n",
        "\n",
        "n = 5\n",
        "Uverdadera = np.zeros((n,n))\n",
        "\n",
        "for i in range(n):\n",
        "    Uverdadera[i][i]=10**(i+1)\n",
        "    Uverdadera[i][i+1:]=1.0\n",
        "\n",
        "A = Uverdadera.T@Uverdadera\n"
      ]
    },
    {
      "cell_type": "markdown",
      "source": [
        "**PARTE 2**. Ejecutemos la factorización de Cholesky para la matriz A. Imprima la salida Ucholesky, y compárela con Uverdadera, tanto elemento por elemento como en cuanto a norma. Use la función np.linalg.norm( ) para ver el error entre ambas matrices triangulares, tanto absoluto como relativo (con respecto a la norma de Uverdadera). Imprima los resultados."
      ],
      "metadata": {
        "id": "ulMsqUqrMLC_"
      }
    },
    {
      "cell_type": "code",
      "source": [
        "Ucholesky = factorizacion_cholesky(A)"
      ],
      "metadata": {
        "id": "uieX4HqQW1jV"
      },
      "execution_count": null,
      "outputs": []
    },
    {
      "cell_type": "markdown",
      "source": [
        "**PARTE 3**. Usando la matriz resultante Ucholesky, vamos a obtener una reconstrucción de la matriz A, haciendo el producto \n",
        "\n",
        "Ucholesky^T . Ucholesky.\n",
        "\n",
        "Llamamos a ese resultado Areconstruida y hacemos la comparación con A, de la misma forma que hicimos con U en la parte 2."
      ],
      "metadata": {
        "id": "4hsJYQa8M1si"
      }
    },
    {
      "cell_type": "code",
      "source": [
        "Areconstruida = ..."
      ],
      "metadata": {
        "id": "fYsoFbPzbblM"
      },
      "execution_count": null,
      "outputs": []
    },
    {
      "cell_type": "markdown",
      "source": [
        "**PARTE 4**. Generamos un vector xverdadero de longitud n siguiendo la regla escrita enseguida. Después generamos un vector b mediate el producto entre la matriz verdadera A con xverdadero. Imprima xverdadero y b."
      ],
      "metadata": {
        "id": "KOdmZo8LNi1Z"
      }
    },
    {
      "cell_type": "code",
      "source": [
        "xverdadero=np.zeros(n)\n",
        "for i in range(n):\n",
        "    xverdadero[i]=1.0+pow(10,2*i)\n",
        "\n",
        "b = ...\n"
      ],
      "metadata": {
        "id": "Fkgna89CG8nE"
      },
      "execution_count": null,
      "outputs": []
    },
    {
      "cell_type": "markdown",
      "source": [
        "**PARTE 5**. Encontremos una solución numérica para el sistema A xnumerico = b. Nuevamente comparemos xverdadero con xnumerico tanto elemento por elemento como con normas. Imprimamos los resultados.**bold text**"
      ],
      "metadata": {
        "id": "qGpYFj3xKNpH"
      }
    },
    {
      "cell_type": "code",
      "source": [
        "xnumerico = resolver_sistema_sim(A,b)"
      ],
      "metadata": {
        "id": "yBqLft_9H0GO"
      },
      "execution_count": 109,
      "outputs": []
    },
    {
      "cell_type": "markdown",
      "source": [
        "**PARTE 6**. (Bonificación de hasta 5 puntos) Variando el valor de n entre 5 y 10 desde la parte 1, ejecute los scripts del ejercicio e interprete los resultados de las partes 2, 3 y 5. Diga en qué casos se ve mayor diferencia entre los resultados numéricos y los verdaderos, y qué relación puede tener con la precisión y el número de condición de la matriz A."
      ],
      "metadata": {
        "id": "hlevJm4_O6y0"
      }
    }
  ]
}